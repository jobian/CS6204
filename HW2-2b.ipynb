{
 "cells": [
  {
   "cell_type": "code",
   "execution_count": 1,
   "metadata": {},
   "outputs": [],
   "source": [
    "# coding: utf-8\n",
    "#\n",
    "# CS 6204 - Network Science Homework 2 - Prof. Cho\n",
    "# Demetrius Davis (2019) - dldavis@vt.edu\n",
    "#\n",
    "\n",
    "#\n",
    "# SECTION 1 - IMPORTS\n",
    "#\n",
    "import networkx as nx   \n",
    "import numpy as np\n",
    "import numpy.random as rd\n",
    "import matplotlib.pyplot as plt\n",
    "import warnings"
   ]
  },
  {
   "cell_type": "code",
   "execution_count": 2,
   "metadata": {},
   "outputs": [],
   "source": [
    "# If you are using Jupyter Notebook you may find following two lines useful:\n",
    "warnings.filterwarnings('ignore')\n",
    "% matplotlib inline"
   ]
  },
  {
   "cell_type": "code",
   "execution_count": null,
   "metadata": {
    "scrolled": false
   },
   "outputs": [
    {
     "name": "stdout",
     "output_type": "stream",
     "text": [
      "Select y-axis (1 - Clustering Coefficient, 2 - Average Path Length): 2\n",
      "0\n",
      "---\n",
      "-1-\n",
      "-2-\n",
      "-3-\n",
      "1\n",
      "---\n",
      "-1-\n",
      "-2-\n",
      "-3-\n",
      "2\n",
      "---\n",
      "-1-\n",
      "-2-\n",
      "-3-\n",
      "3\n",
      "---\n",
      "-1-\n",
      "-2-\n",
      "-3-\n",
      "4\n",
      "---\n"
     ]
    }
   ],
   "source": [
    "#\n",
    "# SECTION 3 - ALGORITHM SELECTION\n",
    "#\n",
    "\n",
    "# Get parameters\n",
    "output_type = int(input(\"Select y-axis (1 - Clustering Coefficient, 2 - Average Path Length): \"))\n",
    "n = [100, 500, 1000, 5000, 10000]\n",
    "#n = [100, 300, 500, 1000, 2000]\n",
    "\n",
    "y1 = [0, 0, 0, 0, 0]\n",
    "y2 = [0, 0, 0, 0, 0]\n",
    "y3 = [0, 0, 0, 0, 0]\n",
    "\n",
    "for i in range(len(n)):\n",
    "    print(i)\n",
    "    print('---')\n",
    "\n",
    "    if output_type == 1:\n",
    "        G = nx.erdos_renyi_graph(n[i], 0.1)\n",
    "        y1[i] = nx.average_clustering(G)\n",
    "        print('-1-')\n",
    "        \n",
    "        G = nx.barabasi_albert_graph(n[i], 4)\n",
    "        y2[i] = nx.average_clustering(G)\n",
    "        print('-2-')\n",
    "        \n",
    "        G = nx.watts_strogatz_graph(n[i], 10, 0.1)\n",
    "        y3[i] = nx.transitivity(G)\n",
    "        print('-3-')\n",
    "\n",
    "    elif output_type == 2:\n",
    "        G = nx.erdos_renyi_graph(n[i], 0.1)\n",
    "        y1[i] = nx.average_shortest_path_length(G)\n",
    "        print('-1-')\n",
    "        \n",
    "        G = nx.barabasi_albert_graph(n[i], 4)\n",
    "        y2[i] = nx.average_shortest_path_length(G)\n",
    "        print('-2-')\n",
    "        \n",
    "        G = nx.watts_strogatz_graph(n[i], 10, 0.1)\n",
    "        y3[i] = nx.average_shortest_path_length(G)\n",
    "        print('-3-')\n",
    "        \n",
    "print(y1)\n",
    "print(y2)\n",
    "print(y3)\n",
    "\n",
    "if output_type == 1:\n",
    "    plt.ylabel('Clustering Coefficient')\n",
    "elif output_type == 2:\n",
    "    plt.ylabel('Average Shortest Path Length')\n",
    "\n",
    "plt.xlabel('Number of Vertices')\n",
    "plt.plot(n, y1, n, y2, n, y3)\n",
    "#plt.plot(n, y1, 'r--', n, y2, 'bs', n, y3, 'g^')\n",
    "plt.show()"
   ]
  },
  {
   "cell_type": "code",
   "execution_count": null,
   "metadata": {},
   "outputs": [],
   "source": []
  },
  {
   "cell_type": "code",
   "execution_count": null,
   "metadata": {},
   "outputs": [],
   "source": []
  }
 ],
 "metadata": {
  "kernelspec": {
   "display_name": "Python 3",
   "language": "python",
   "name": "python3"
  },
  "language_info": {
   "codemirror_mode": {
    "name": "ipython",
    "version": 3
   },
   "file_extension": ".py",
   "mimetype": "text/x-python",
   "name": "python",
   "nbconvert_exporter": "python",
   "pygments_lexer": "ipython3",
   "version": "3.6.5"
  }
 },
 "nbformat": 4,
 "nbformat_minor": 2
}
